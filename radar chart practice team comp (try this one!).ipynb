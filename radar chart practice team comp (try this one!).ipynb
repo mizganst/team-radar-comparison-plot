{
 "cells": [
  {
   "cell_type": "markdown",
   "id": "647bfbea",
   "metadata": {},
   "source": [
    "## Major chunk of code inspired by John McKay (@mckayjohns)"
   ]
  },
  {
   "cell_type": "code",
   "execution_count": null,
   "id": "d915b159",
   "metadata": {},
   "outputs": [],
   "source": [
    "pip install soccerplots"
   ]
  },
  {
   "cell_type": "code",
   "execution_count": 16,
   "id": "933541cc",
   "metadata": {},
   "outputs": [],
   "source": [
    "#import relevant libraries\n",
    "import pandas as pd\n",
    "import matplotlib.pyplot as plt\n",
    "from soccerplots.radar_chart import Radar"
   ]
  },
  {
   "cell_type": "code",
   "execution_count": 17,
   "id": "a69db5bf",
   "metadata": {},
   "outputs": [],
   "source": [
    "df = pd.read_csv('manager nos como - Sheet2.csv') #read the file, this is tabulated by me via FBRef. You can take any data"
   ]
  },
  {
   "cell_type": "code",
   "execution_count": 18,
   "id": "451ad78e",
   "metadata": {},
   "outputs": [
    {
     "data": {
      "text/html": [
       "<div>\n",
       "<style scoped>\n",
       "    .dataframe tbody tr th:only-of-type {\n",
       "        vertical-align: middle;\n",
       "    }\n",
       "\n",
       "    .dataframe tbody tr th {\n",
       "        vertical-align: top;\n",
       "    }\n",
       "\n",
       "    .dataframe thead th {\n",
       "        text-align: right;\n",
       "    }\n",
       "</style>\n",
       "<table border=\"1\" class=\"dataframe\">\n",
       "  <thead>\n",
       "    <tr style=\"text-align: right;\">\n",
       "      <th></th>\n",
       "      <th>Teams</th>\n",
       "      <th>Goals per 90</th>\n",
       "      <th>xG per 90</th>\n",
       "      <th>Shots per 90</th>\n",
       "      <th>Middle Third Touches per 90</th>\n",
       "      <th>Touches in Opp. Box per 90</th>\n",
       "      <th>PPDA</th>\n",
       "      <th>High turnovers per game</th>\n",
       "      <th>Through balls conceded per 90</th>\n",
       "      <th>Passes allowed in own box per 90</th>\n",
       "      <th>Shots Conceded per 90</th>\n",
       "      <th>Goals conceded per 90</th>\n",
       "      <th>xG Conceded per 90</th>\n",
       "    </tr>\n",
       "  </thead>\n",
       "  <tbody>\n",
       "    <tr>\n",
       "      <th>0</th>\n",
       "      <td>Liverpool - 23/24</td>\n",
       "      <td>2.10</td>\n",
       "      <td>2.17</td>\n",
       "      <td>18.48</td>\n",
       "      <td>350.5</td>\n",
       "      <td>33.0</td>\n",
       "      <td>9.2</td>\n",
       "      <td>9.61</td>\n",
       "      <td>1.48</td>\n",
       "      <td>6.52</td>\n",
       "      <td>11.24</td>\n",
       "      <td>0.81</td>\n",
       "      <td>1.14</td>\n",
       "    </tr>\n",
       "    <tr>\n",
       "      <th>1</th>\n",
       "      <td>Bayer Leverkusen - 23/24</td>\n",
       "      <td>2.53</td>\n",
       "      <td>2.75</td>\n",
       "      <td>17.53</td>\n",
       "      <td>435.6</td>\n",
       "      <td>35.1</td>\n",
       "      <td>13.2</td>\n",
       "      <td>10.94</td>\n",
       "      <td>1.37</td>\n",
       "      <td>5.42</td>\n",
       "      <td>8.68</td>\n",
       "      <td>0.74</td>\n",
       "      <td>0.94</td>\n",
       "    </tr>\n",
       "    <tr>\n",
       "      <th>2</th>\n",
       "      <td>Sporting CP - 23/24</td>\n",
       "      <td>2.68</td>\n",
       "      <td>2.19</td>\n",
       "      <td>16.79</td>\n",
       "      <td>344.3</td>\n",
       "      <td>33.3</td>\n",
       "      <td>10.7</td>\n",
       "      <td>9.57</td>\n",
       "      <td>1.79</td>\n",
       "      <td>4.47</td>\n",
       "      <td>7.79</td>\n",
       "      <td>1.00</td>\n",
       "      <td>0.79</td>\n",
       "    </tr>\n",
       "    <tr>\n",
       "      <th>3</th>\n",
       "      <td>Brighton - 23/24</td>\n",
       "      <td>1.64</td>\n",
       "      <td>1.67</td>\n",
       "      <td>14.73</td>\n",
       "      <td>360.4</td>\n",
       "      <td>30.1</td>\n",
       "      <td>10.6</td>\n",
       "      <td>9.31</td>\n",
       "      <td>1.32</td>\n",
       "      <td>7.59</td>\n",
       "      <td>12.14</td>\n",
       "      <td>1.59</td>\n",
       "      <td>1.55</td>\n",
       "    </tr>\n",
       "  </tbody>\n",
       "</table>\n",
       "</div>"
      ],
      "text/plain": [
       "                      Teams  Goals per 90  xG per 90  Shots per 90  \\\n",
       "0         Liverpool - 23/24          2.10       2.17         18.48   \n",
       "1  Bayer Leverkusen - 23/24          2.53       2.75         17.53   \n",
       "2       Sporting CP - 23/24          2.68       2.19         16.79   \n",
       "3          Brighton - 23/24          1.64       1.67         14.73   \n",
       "\n",
       "   Middle Third Touches per 90  Touches in Opp. Box per 90  PPDA  \\\n",
       "0                        350.5                        33.0   9.2   \n",
       "1                        435.6                        35.1  13.2   \n",
       "2                        344.3                        33.3  10.7   \n",
       "3                        360.4                        30.1  10.6   \n",
       "\n",
       "   High turnovers per game  Through balls conceded per 90  \\\n",
       "0                     9.61                           1.48   \n",
       "1                    10.94                           1.37   \n",
       "2                     9.57                           1.79   \n",
       "3                     9.31                           1.32   \n",
       "\n",
       "   Passes allowed in own box per 90  Shots Conceded per 90  \\\n",
       "0                              6.52                  11.24   \n",
       "1                              5.42                   8.68   \n",
       "2                              4.47                   7.79   \n",
       "3                              7.59                  12.14   \n",
       "\n",
       "   Goals conceded per 90  xG Conceded per 90  \n",
       "0                   0.81                1.14  \n",
       "1                   0.74                0.94  \n",
       "2                   1.00                0.79  \n",
       "3                   1.59                1.55  "
      ]
     },
     "execution_count": 18,
     "metadata": {},
     "output_type": "execute_result"
    }
   ],
   "source": [
    "df.head(15)"
   ]
  },
  {
   "cell_type": "code",
   "execution_count": 19,
   "id": "33f5ea8f",
   "metadata": {},
   "outputs": [],
   "source": [
    "#filter with team for comparison later\n",
    "dfls = df[(df['Teams'] == 'Bayer Leverkusen - 23/24') | (df['Teams'] == 'Sporting CP - 23/24')].reset_index()"
   ]
  },
  {
   "cell_type": "code",
   "execution_count": 20,
   "id": "4afc1675",
   "metadata": {},
   "outputs": [],
   "source": [
    "dfls = dfls.drop(['index'], axis = 1) "
   ]
  },
  {
   "cell_type": "code",
   "execution_count": 21,
   "id": "69603fe0",
   "metadata": {},
   "outputs": [],
   "source": [
    "#change column names for better radar visualisation\n",
    "new_column_names = {\n",
    "    'Teams': 'Team',\n",
    "    'Goals per 90': 'Goals',\n",
    "    'xG per 90': 'xG',\n",
    "    'Shots per 90': 'Sh/90',\n",
    "    'Middle Third Touches per 90': 'Middle third touches',\n",
    "    'Touches in Opp. Box per 90': 'Opp. box touches',\n",
    "    'PPDA': 'PPDA',\n",
    "    'High turnovers per game': 'High turnovers',\n",
    "    'Through balls conceded per 90': 'Through balls conc',\n",
    "    'Passes allowed in own box per 90': 'Passes conc(own box)',\n",
    "    'Shots Conceded per 90': 'Shots conceded',\n",
    "    'Goals conceded per 90': 'Goals conceded',\n",
    "    'xG Conceded per 90': 'xG conceded'\n",
    "}\n",
    "\n",
    "dfls = dfls.rename(columns=new_column_names)\n"
   ]
  },
  {
   "cell_type": "code",
   "execution_count": 22,
   "id": "57844b9e",
   "metadata": {},
   "outputs": [
    {
     "data": {
      "text/html": [
       "<div>\n",
       "<style scoped>\n",
       "    .dataframe tbody tr th:only-of-type {\n",
       "        vertical-align: middle;\n",
       "    }\n",
       "\n",
       "    .dataframe tbody tr th {\n",
       "        vertical-align: top;\n",
       "    }\n",
       "\n",
       "    .dataframe thead th {\n",
       "        text-align: right;\n",
       "    }\n",
       "</style>\n",
       "<table border=\"1\" class=\"dataframe\">\n",
       "  <thead>\n",
       "    <tr style=\"text-align: right;\">\n",
       "      <th></th>\n",
       "      <th>Team</th>\n",
       "      <th>Goals</th>\n",
       "      <th>xG</th>\n",
       "      <th>Sh/90</th>\n",
       "      <th>Middle third touches</th>\n",
       "      <th>Opp. box touches</th>\n",
       "      <th>PPDA</th>\n",
       "      <th>High turnovers</th>\n",
       "      <th>Through balls conc</th>\n",
       "      <th>Passes conc(own box)</th>\n",
       "      <th>Shots conceded</th>\n",
       "      <th>Goals conceded</th>\n",
       "      <th>xG conceded</th>\n",
       "    </tr>\n",
       "  </thead>\n",
       "  <tbody>\n",
       "    <tr>\n",
       "      <th>0</th>\n",
       "      <td>Bayer Leverkusen - 23/24</td>\n",
       "      <td>2.53</td>\n",
       "      <td>2.75</td>\n",
       "      <td>17.53</td>\n",
       "      <td>435.6</td>\n",
       "      <td>35.1</td>\n",
       "      <td>13.2</td>\n",
       "      <td>10.94</td>\n",
       "      <td>1.37</td>\n",
       "      <td>5.42</td>\n",
       "      <td>8.68</td>\n",
       "      <td>0.74</td>\n",
       "      <td>0.94</td>\n",
       "    </tr>\n",
       "    <tr>\n",
       "      <th>1</th>\n",
       "      <td>Sporting CP - 23/24</td>\n",
       "      <td>2.68</td>\n",
       "      <td>2.19</td>\n",
       "      <td>16.79</td>\n",
       "      <td>344.3</td>\n",
       "      <td>33.3</td>\n",
       "      <td>10.7</td>\n",
       "      <td>9.57</td>\n",
       "      <td>1.79</td>\n",
       "      <td>4.47</td>\n",
       "      <td>7.79</td>\n",
       "      <td>1.00</td>\n",
       "      <td>0.79</td>\n",
       "    </tr>\n",
       "  </tbody>\n",
       "</table>\n",
       "</div>"
      ],
      "text/plain": [
       "                       Team  Goals    xG  Sh/90  Middle third touches  \\\n",
       "0  Bayer Leverkusen - 23/24   2.53  2.75  17.53                 435.6   \n",
       "1       Sporting CP - 23/24   2.68  2.19  16.79                 344.3   \n",
       "\n",
       "   Opp. box touches  PPDA  High turnovers  Through balls conc  \\\n",
       "0              35.1  13.2           10.94                1.37   \n",
       "1              33.3  10.7            9.57                1.79   \n",
       "\n",
       "   Passes conc(own box)  Shots conceded  Goals conceded  xG conceded  \n",
       "0                  5.42            8.68            0.74         0.94  \n",
       "1                  4.47            7.79            1.00         0.79  "
      ]
     },
     "execution_count": 22,
     "metadata": {},
     "output_type": "execute_result"
    }
   ],
   "source": [
    "dfls"
   ]
  },
  {
   "cell_type": "code",
   "execution_count": 23,
   "id": "2a68c90d",
   "metadata": {},
   "outputs": [
    {
     "data": {
      "text/plain": [
       "['Goals',\n",
       " 'xG',\n",
       " 'Sh/90',\n",
       " 'Middle third touches',\n",
       " 'Opp. box touches',\n",
       " 'PPDA',\n",
       " 'High turnovers',\n",
       " 'Through balls conc',\n",
       " 'Passes conc(own box)',\n",
       " 'Shots conceded',\n",
       " 'Goals conceded',\n",
       " 'xG conceded']"
      ]
     },
     "execution_count": 23,
     "metadata": {},
     "output_type": "execute_result"
    }
   ],
   "source": [
    "#get parameters\n",
    "\n",
    "params = list(dfls.columns)\n",
    "params = params[1:]\n",
    "params"
   ]
  },
  {
   "cell_type": "code",
   "execution_count": 24,
   "id": "674674e5",
   "metadata": {},
   "outputs": [],
   "source": [
    "#create radar ranges \n",
    "\n",
    "ranges = []\n",
    "a_values = []\n",
    "b_values = []\n",
    "\n",
    "#adding 20% up and down from value of each metric for making radar understand the high and low point\n",
    "for x in params:\n",
    "    a = min(dfls[params][x])\n",
    "    a = a - (a*.20) \n",
    "    \n",
    "    b = max(dfls[params][x])\n",
    "    b = b +(b*.20)\n",
    "    \n",
    "    ranges.append((a,b))\n",
    "\n",
    "for x in range (len(dfls['Team'])):\n",
    "    if dfls['Team'][x] == 'Bayer Leverkusen - 23/24': \n",
    "        a_values = dfls.iloc[x].values.tolist()\n",
    "    if dfls['Team'][x] == 'Sporting CP - 23/24':\n",
    "        b_values = dfls.iloc[x].values.tolist()\n",
    "    \n",
    "a_values = a_values[1:]\n",
    "b_values = b_values[1:]\n",
    "\n",
    "values = [a_values, b_values]"
   ]
  },
  {
   "cell_type": "code",
   "execution_count": 25,
   "id": "e593fa70",
   "metadata": {},
   "outputs": [
    {
     "data": {
      "text/plain": [
       "[[2.53, 2.75, 17.53, 435.6, 35.1, 13.2, 10.94, 1.37, 5.42, 8.68, 0.74, 0.94],\n",
       " [2.68, 2.19, 16.79, 344.3, 33.3, 10.7, 9.57, 1.79, 4.47, 7.79, 1.0, 0.79]]"
      ]
     },
     "execution_count": 25,
     "metadata": {},
     "output_type": "execute_result"
    }
   ],
   "source": [
    "values"
   ]
  },
  {
   "cell_type": "code",
   "execution_count": 26,
   "id": "1be4c6a6",
   "metadata": {},
   "outputs": [],
   "source": [
    "#title \n",
    "\n",
    "title = dict(\n",
    "    title_name = 'Bayer Leverkusen - 23/24',\n",
    "    title_color = 'cyan',\n",
    "    subtitle_name = 'Xabi Alonso',\n",
    "    subtitle_color = 'cyan',\n",
    "    \n",
    "    title_name_2 = 'Sporting CP - 23/24',\n",
    "    title_color_2 = 'green',\n",
    "    subtitle_name_2 = 'Ruben Amorim',\n",
    "    subtitle_color_2 = 'green',\n",
    "    \n",
    "    title_fontsize = 18,\n",
    "    subtitle_fontsize = 14\n",
    " \n",
    ")\n",
    "\n",
    "endnote = 'All Numbers per 90\\nVisual by - Mizgan, @mizgans \\ndata via FBRef/Opta\\n conc = conceded'"
   ]
  },
  {
   "cell_type": "code",
   "execution_count": null,
   "id": "9ef0e552",
   "metadata": {},
   "outputs": [],
   "source": [
    "#plot radar\n",
    "radar = Radar()\n",
    "\n",
    "fig,ax = radar.plot_radar(ranges = ranges, params = params, values = values,\n",
    "                          radar_color = ['cyan', 'green'], alphas = [0.75, 0.6], title = title, endnote = endnote,\n",
    "                         compare = True)"
   ]
  },
  {
   "cell_type": "code",
   "execution_count": null,
   "id": "3adb178a",
   "metadata": {},
   "outputs": [],
   "source": []
  }
 ],
 "metadata": {
  "kernelspec": {
   "display_name": "Python 3 (ipykernel)",
   "language": "python",
   "name": "python3"
  },
  "language_info": {
   "codemirror_mode": {
    "name": "ipython",
    "version": 3
   },
   "file_extension": ".py",
   "mimetype": "text/x-python",
   "name": "python",
   "nbconvert_exporter": "python",
   "pygments_lexer": "ipython3",
   "version": "3.11.5"
  }
 },
 "nbformat": 4,
 "nbformat_minor": 5
}
